{
 "cells": [
  {
   "cell_type": "code",
   "execution_count": 1,
   "metadata": {
    "collapsed": true
   },
   "outputs": [],
   "source": [
    "\"\"\"\n",
    "Layers for SSD\n",
    "\"\"\"\n",
    "\n",
    "import tensorflow as tf\n",
    "\n",
    "# Conv2d: for stride = 1\n",
    "def conv2d(x, filters, kernel_size, stride=1, padding=\"same\",\n",
    "           dilation_rate=1, activation=tf.nn.relu, scope=\"conv2d\"):\n",
    "    kernel_sizes = [kernel_size] * 2\n",
    "    strides = [stride] * 2\n",
    "    dilation_rate = [dilation_rate] * 2\n",
    "    return tf.layers.conv2d(x, filters, kernel_sizes, strides=strides,\n",
    "                            dilation_rate=dilation_rate, padding=padding,\n",
    "                            name=scope, activation=activation)\n",
    "\n",
    "# max pool2d: default pool_size = stride\n",
    "def max_pool2d(x, pool_size, stride=None, scope=\"max_pool2d\"):\n",
    "    pool_sizes = [pool_size] * 2\n",
    "    strides = [pool_size] * 2 if stride is None else [stride] * 2\n",
    "    return tf.layers.max_pooling2d(x, pool_sizes, strides, name=scope, padding=\"same\")\n",
    "\n",
    "# pad2d: for conv2d with stride > 1\n",
    "def pad2d(x, pad):\n",
    "    return tf.pad(x, paddings=[[0, 0], [pad, pad], [pad, pad], [0, 0]])\n",
    "\n",
    "# dropout\n",
    "def dropout(x, rate=0.5, is_training=True):\n",
    "    return tf.layers.dropout(x, rate=rate, training=is_training)\n",
    "\n",
    "# l2norm (not bacth norm, spatial normalization)\n",
    "def l2norm(x, scale, trainable=True, scope=\"L2Normalization\"):\n",
    "    n_channels = x.get_shape().as_list()[-1]\n",
    "    l2_norm = tf.nn.l2_normalize(x, [3], epsilon=1e-12)\n",
    "    with tf.variable_scope(scope):\n",
    "        gamma = tf.get_variable(\"gamma\", shape=[n_channels, ], dtype=tf.float32,\n",
    "                                initializer=tf.constant_initializer(scale),\n",
    "                                trainable=trainable)\n",
    "        return l2_norm * gamma\n",
    "\n",
    "\n",
    "# multibox layer: get class and location predicitions from detection layer\n",
    "def ssd_multibox_layer(x, num_classes, sizes, ratios, normalization=-1, scope=\"multibox\"):\n",
    "    pre_shape = x.get_shape().as_list()[1:-1]\n",
    "    pre_shape = [-1] + pre_shape\n",
    "    with tf.variable_scope(scope):\n",
    "        # l2 norm\n",
    "        if normalization > 0:\n",
    "            x = l2norm(x, normalization)\n",
    "            print(x)\n",
    "        # numbers of anchors\n",
    "        n_anchors = len(sizes) + len(ratios)\n",
    "        # location predictions\n",
    "        loc_pred = conv2d(x, n_anchors*4, 3, activation=None, scope=\"conv_loc\")\n",
    "        loc_pred = tf.reshape(loc_pred, pre_shape + [n_anchors, 4])\n",
    "        # class prediction\n",
    "        cls_pred = conv2d(x, n_anchors*num_classes, 3, activation=None, scope=\"conv_cls\")\n",
    "        cls_pred = tf.reshape(cls_pred, pre_shape + [n_anchors, num_classes])\n",
    "        return cls_pred, loc_pred\n"
   ]
  },
  {
   "cell_type": "code",
   "execution_count": null,
   "metadata": {
    "collapsed": true
   },
   "outputs": [],
   "source": []
  }
 ],
 "metadata": {
  "kernelspec": {
   "display_name": "Python [default]",
   "language": "python",
   "name": "python3"
  },
  "language_info": {
   "codemirror_mode": {
    "name": "ipython",
    "version": 3
   },
   "file_extension": ".py",
   "mimetype": "text/x-python",
   "name": "python",
   "nbconvert_exporter": "python",
   "pygments_lexer": "ipython3",
   "version": "3.5.4"
  }
 },
 "nbformat": 4,
 "nbformat_minor": 2
}
